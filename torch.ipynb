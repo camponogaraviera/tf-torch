{
 "cells": [
  {
   "cell_type": "markdown",
   "metadata": {
    "id": "hF4NYyboIq5z"
   },
   "source": [
    "Author: Lucas Camponogara Viera."
   ]
  },
  {
   "cell_type": "markdown",
   "metadata": {
    "id": "5LTGVwEqIoXb"
   },
   "source": [
    "# Dependencies"
   ]
  },
  {
   "cell_type": "code",
   "execution_count": 1,
   "metadata": {
    "colab": {
     "base_uri": "https://localhost:8080/",
     "height": 35
    },
    "executionInfo": {
     "elapsed": 24,
     "status": "ok",
     "timestamp": 1687176081909,
     "user": {
      "displayName": "Lucas Camponogara Viera",
      "userId": "14322290658374940800"
     },
     "user_tz": 180
    },
    "id": "6zU3aG8uYefV",
    "outputId": "4bcb44f5-c897-4e99-bd4a-36657c5e53d9"
   },
   "outputs": [
    {
     "data": {
      "text/plain": [
       "'3.11.0 | packaged by conda-forge | (main, Jan 14 2023, 12:27:40) [GCC 11.3.0]'"
      ]
     },
     "execution_count": 1,
     "metadata": {},
     "output_type": "execute_result"
    }
   ],
   "source": [
    "import sys\n",
    "sys.version"
   ]
  },
  {
   "cell_type": "code",
   "execution_count": 2,
   "metadata": {
    "id": "aOhyfFg8-4NH"
   },
   "outputs": [],
   "source": [
    "# Dummy Dataset\n",
    "import numpy as np\n",
    "\n",
    "# File System\n",
    "import os\n",
    "\n",
    "# Tensor Manipulation\n",
    "import torch\n",
    "\n",
    "# Neural Network\n",
    "import torch.nn.functional as F\n",
    "from torch import nn, save, load\n",
    "from torchsummary import summary\n",
    "\n",
    "# MNIST Dataset\n",
    "from torchvision import datasets\n",
    "\n",
    "# Preprocessing\n",
    "from torch.utils.data import DataLoader\n",
    "from torchvision.transforms import ToTensor\n",
    "\n",
    "# Optimizer\n",
    "from torch.optim import SGD, Adam\n",
    "\n",
    "# Plotting\n",
    "import matplotlib.pyplot as plt\n",
    "from PIL import Image"
   ]
  },
  {
   "cell_type": "code",
   "execution_count": 3,
   "metadata": {
    "colab": {
     "base_uri": "https://localhost:8080/",
     "height": 35
    },
    "executionInfo": {
     "elapsed": 30,
     "status": "ok",
     "timestamp": 1687176081908,
     "user": {
      "displayName": "Lucas Camponogara Viera",
      "userId": "14322290658374940800"
     },
     "user_tz": 180
    },
    "id": "XFkw_6mQYqHp",
    "outputId": "d44723b2-7766-4a7d-d1d7-dc381f8caa9f"
   },
   "outputs": [
    {
     "data": {
      "text/plain": [
       "'2.7.1+cu118'"
      ]
     },
     "execution_count": 3,
     "metadata": {},
     "output_type": "execute_result"
    }
   ],
   "source": [
    "torch.__version__"
   ]
  },
  {
   "cell_type": "code",
   "execution_count": 4,
   "metadata": {},
   "outputs": [
    {
     "name": "stdout",
     "output_type": "stream",
     "text": [
      "GPU 0: NVIDIA L40S\n",
      "GPU 1: NVIDIA L40S\n"
     ]
    }
   ],
   "source": [
    "for i in range(torch.cuda.device_count()):\n",
    "    print(f'GPU {i}: {torch.cuda.get_device_name(i)}')\n",
    "\n",
    "device = torch.device('cuda' if torch.cuda.is_available() else 'cpu')"
   ]
  },
  {
   "cell_type": "markdown",
   "metadata": {
    "id": "kvy46RwUYdCW",
    "jp-MarkdownHeadingCollapsed": true
   },
   "source": [
    "# Dummy Dataset\n",
    "\n",
    "To test the neural network implementation."
   ]
  },
  {
   "cell_type": "code",
   "execution_count": 4,
   "metadata": {
    "colab": {
     "base_uri": "https://localhost:8080/"
    },
    "executionInfo": {
     "elapsed": 470,
     "status": "ok",
     "timestamp": 1687176082358,
     "user": {
      "displayName": "Lucas Camponogara Viera",
      "userId": "14322290658374940800"
     },
     "user_tz": 180
    },
    "id": "mUIvl_dQYTP4",
    "outputId": "b31154ec-a79a-4830-81e2-e91e15ca7007"
   },
   "outputs": [
    {
     "name": "stdout",
     "output_type": "stream",
     "text": [
      "tensor(0.0005) tensor(0.9992)\n"
     ]
    },
    {
     "data": {
      "text/plain": [
       "(torch.Size([100, 1, 28, 28]), torch.Size([100]), tensor([0, 8, 3]))"
      ]
     },
     "execution_count": 4,
     "metadata": {},
     "output_type": "execute_result"
    }
   ],
   "source": [
    "# Dummy dataset:\n",
    "num_classes = 10\n",
    "num_samples = 100\n",
    "height = 28\n",
    "width = height\n",
    "num_channels = 1 # Grayscale.\n",
    "train_shape = (num_samples, num_channels, height, width)\n",
    "label_shape = (num_samples, num_classes)\n",
    "\n",
    "# Normalizing the dataset:\n",
    "mean = 0.0 # Mean.\n",
    "stddev = 1.0 # Standard deviation.\n",
    "\n",
    "# NumPy:\n",
    "#dummy_x = np.random.normal(mean, stddev, size=train_shape)\n",
    "#dummy_y = np.random.randint(0, num_classes, size=(num_samples,))\n",
    "\n",
    "# Torch:\n",
    "dummy_x = torch.randn(train_shape) * stddev + mean\n",
    "dummy_y = torch.randint(0, num_classes, (num_samples,)) # PyTorch's nn.CrossEntropyLoss() expects targets (labels) to be integer class\n",
    "                                                        # indices. It applies log-softmax to the model outputs (logits) internally.\n",
    "\n",
    "print(dummy_x.mean(), dummy_x.std()) \n",
    "dummy_x.shape, dummy_y.shape, dummy_y[:3]"
   ]
  },
  {
   "cell_type": "code",
   "execution_count": 5,
   "metadata": {
    "colab": {
     "base_uri": "https://localhost:8080/"
    },
    "executionInfo": {
     "elapsed": 17,
     "status": "ok",
     "timestamp": 1687176082358,
     "user": {
      "displayName": "Lucas Camponogara Viera",
      "userId": "14322290658374940800"
     },
     "user_tz": 180
    },
    "id": "oYufBkwJYU8S",
    "outputId": "16283a3e-bd53-4621-b0e2-9b98d74e2758"
   },
   "outputs": [
    {
     "data": {
      "text/plain": [
       "(torch.Size([50, 1, 28, 28]),\n",
       " torch.Size([50]),\n",
       " torch.Size([50, 1, 28, 28]),\n",
       " torch.Size([50]))"
      ]
     },
     "execution_count": 5,
     "metadata": {},
     "output_type": "execute_result"
    }
   ],
   "source": [
    "# Hold-out set:\n",
    "\n",
    "x_train = dummy_x[:50] # First 50.\n",
    "y_train = dummy_y[:50]\n",
    "x_val = dummy_x[50:] # Remaining ones.\n",
    "y_val = dummy_y[50:]\n",
    "\n",
    "x_train.shape, y_train.shape, x_val.shape, y_val.shape"
   ]
  },
  {
   "cell_type": "markdown",
   "metadata": {
    "id": "WLm2BNtC-7D2",
    "jp-MarkdownHeadingCollapsed": true
   },
   "source": [
    "# OOP (Sequential API)"
   ]
  },
  {
   "cell_type": "markdown",
   "metadata": {},
   "source": [
    "The Sequential API allows neural network layers to be stacked one after another, sequentially. \n",
    "\n",
    "- Recommended for simple, linear models where each layer has exactly one input and one output.\n",
    "- Not recommended for non-linear models with multiple inputs/outputs, shared layers, or branched architectures (e.g., ResNets, Inception, GANs, Transformer, etc)."
   ]
  },
  {
   "cell_type": "code",
   "execution_count": 7,
   "metadata": {},
   "outputs": [],
   "source": [
    "class NeuralNetwork(nn.Module):\n",
    "    def __init__(self, num_classes=10):\n",
    "        super().__init__()\n",
    "        self.conv_block = nn.Sequential(\n",
    "            nn.Conv2d(in_channels=1, out_channels=32, kernel_size=(3,3), padding=1, stride=1, bias=True),\n",
    "            nn.BatchNorm2d(32, affine=True),\n",
    "            nn.ReLU(),\n",
    "            nn.MaxPool2d(kernel_size=(2, 2), stride=2),\n",
    "            nn.Conv2d(in_channels=32, out_channels=64, kernel_size=(3,3), padding=1, bias=True),\n",
    "            nn.ReLU(),\n",
    "        )\n",
    "        self.classifier = nn.Sequential(\n",
    "            nn.Linear(64*14*14, 50),\n",
    "            nn.ReLU(),\n",
    "            nn.Linear(50, num_classes),\n",
    "            #nn.Softmax(dim=1) # Commented line since nn.CrossEntropyLoss() already applies LogSoftmax internally.\n",
    "        )\n",
    "\n",
    "    def forward(self, x):\n",
    "        '''Forward pass method.'''\n",
    "        x = self.conv_block(x)\n",
    "        #print(x.size()) # torch.Size([10, 64, 14, 14])\n",
    "        # Flattening:\n",
    "        x = x.view(x.size(0), -1) \n",
    "        x = self.classifier(x)\n",
    "        return x"
   ]
  },
  {
   "cell_type": "code",
   "execution_count": 8,
   "metadata": {},
   "outputs": [
    {
     "data": {
      "text/plain": [
       "torch.Size([10, 10])"
      ]
     },
     "execution_count": 8,
     "metadata": {},
     "output_type": "execute_result"
    }
   ],
   "source": [
    "num_classes = 10\n",
    "model = NeuralNetwork(num_classes).to(device)\n",
    "sample_input = torch.ones((10, 1, 28, 28)).to(device)\n",
    "model(sample_input).shape                        "
   ]
  },
  {
   "cell_type": "code",
   "execution_count": 9,
   "metadata": {},
   "outputs": [
    {
     "name": "stdout",
     "output_type": "stream",
     "text": [
      "----------------------------------------------------------------\n",
      "        Layer (type)               Output Shape         Param #\n",
      "================================================================\n",
      "            Conv2d-1           [-1, 32, 28, 28]             320\n",
      "       BatchNorm2d-2           [-1, 32, 28, 28]              64\n",
      "              ReLU-3           [-1, 32, 28, 28]               0\n",
      "         MaxPool2d-4           [-1, 32, 14, 14]               0\n",
      "            Conv2d-5           [-1, 64, 14, 14]          18,496\n",
      "              ReLU-6           [-1, 64, 14, 14]               0\n",
      "            Linear-7                   [-1, 50]         627,250\n",
      "              ReLU-8                   [-1, 50]               0\n",
      "            Linear-9                   [-1, 10]             510\n",
      "================================================================\n",
      "Total params: 646,640\n",
      "Trainable params: 646,640\n",
      "Non-trainable params: 0\n",
      "----------------------------------------------------------------\n",
      "Input size (MB): 0.00\n",
      "Forward/backward pass size (MB): 0.81\n",
      "Params size (MB): 2.47\n",
      "Estimated Total Size (MB): 3.28\n",
      "----------------------------------------------------------------\n"
     ]
    }
   ],
   "source": [
    "# input_shape is (channel, height, width)\n",
    "summary(model, (1, 28, 28))"
   ]
  },
  {
   "cell_type": "markdown",
   "metadata": {
    "id": "j3Lxn2UvCrgc",
    "jp-MarkdownHeadingCollapsed": true
   },
   "source": [
    "# OOP (Functional API)"
   ]
  },
  {
   "cell_type": "markdown",
   "metadata": {},
   "source": [
    "The Functional API provides a method for building a neural network model as a Directed Acyclic Graph (DAG) of layers. \n",
    "\n",
    "- Recommended for non-linear models with multiple inputs/outputs, shared layers, or branched architectures.\n",
    "    - Example: Implementing a residual block with skip connections. "
   ]
  },
  {
   "cell_type": "code",
   "execution_count": 10,
   "metadata": {
    "id": "ztbxzMiN3Hk3"
   },
   "outputs": [],
   "source": [
    "class NeuralNetwork(nn.Module):\n",
    "    def __init__(self, num_classes=10):\n",
    "        super().__init__()\n",
    "        self.conv1 = nn.Conv2d(in_channels=1, out_channels=32, kernel_size=(3,3), padding=1, stride=1, bias=True)\n",
    "        self.pool = nn.MaxPool2d(kernel_size=(2, 2), stride=2)\n",
    "        self.conv2 = nn.Conv2d(in_channels=32, out_channels=64, kernel_size=(3,3), padding=1, bias=True)\n",
    "        self.fc1 = nn.Linear(64 * 14 * 14, 50)  \n",
    "        self.fc2 = nn.Linear(50, num_classes)\n",
    "        self.bn = nn.BatchNorm2d(32, affine=True)\n",
    "\n",
    "    def forward(self, x):\n",
    "        '''Forward pass method.'''\n",
    "        x = self.conv1(x)\n",
    "        x = F.relu(self.bn(x))\n",
    "        x = self.pool(x)\n",
    "        x = F.relu(self.conv2(x))\n",
    "        #print(x.size()) # torch.Size([10, 64, 14, 14])\n",
    "        # Flattening:\n",
    "        x = x.view(-1, 64 * 14 * 14)\n",
    "        x = F.relu(self.fc1(x))\n",
    "        #x = F.softmax(self.fc2(x), dim=1) # Commented line since nn.CrossEntropyLoss() already applies LogSoftmax internally.\n",
    "        x = self.fc2(x) \n",
    "        return x"
   ]
  },
  {
   "cell_type": "code",
   "execution_count": 11,
   "metadata": {
    "colab": {
     "base_uri": "https://localhost:8080/"
    },
    "executionInfo": {
     "elapsed": 272,
     "status": "ok",
     "timestamp": 1687168124706,
     "user": {
      "displayName": "Lucas Camponogara Viera",
      "userId": "14322290658374940800"
     },
     "user_tz": 180
    },
    "id": "afthZAkev6Mx",
    "outputId": "8788210c-21c4-4785-df61-d14da0862e4f"
   },
   "outputs": [
    {
     "data": {
      "text/plain": [
       "torch.Size([10, 10])"
      ]
     },
     "execution_count": 11,
     "metadata": {},
     "output_type": "execute_result"
    }
   ],
   "source": [
    "num_classes = 10\n",
    "model = NeuralNetwork(num_classes).to(device)\n",
    "sample_input = torch.ones((10, 1, 28, 28)).to(device)\n",
    "model(sample_input).shape                        "
   ]
  },
  {
   "cell_type": "code",
   "execution_count": 12,
   "metadata": {},
   "outputs": [
    {
     "name": "stdout",
     "output_type": "stream",
     "text": [
      "----------------------------------------------------------------\n",
      "        Layer (type)               Output Shape         Param #\n",
      "================================================================\n",
      "            Conv2d-1           [-1, 32, 28, 28]             320\n",
      "       BatchNorm2d-2           [-1, 32, 28, 28]              64\n",
      "         MaxPool2d-3           [-1, 32, 14, 14]               0\n",
      "            Conv2d-4           [-1, 64, 14, 14]          18,496\n",
      "            Linear-5                   [-1, 50]         627,250\n",
      "            Linear-6                   [-1, 10]             510\n",
      "================================================================\n",
      "Total params: 646,640\n",
      "Trainable params: 646,640\n",
      "Non-trainable params: 0\n",
      "----------------------------------------------------------------\n",
      "Input size (MB): 0.00\n",
      "Forward/backward pass size (MB): 0.53\n",
      "Params size (MB): 2.47\n",
      "Estimated Total Size (MB): 3.00\n",
      "----------------------------------------------------------------\n"
     ]
    }
   ],
   "source": [
    "# input_shape is (channel, height, width)\n",
    "summary(model, (1, 28, 28))"
   ]
  },
  {
   "cell_type": "markdown",
   "metadata": {
    "id": "hgXSpKQBYaKC",
    "jp-MarkdownHeadingCollapsed": true
   },
   "source": [
    "# Training with Dummy Dataset\n",
    "\n",
    "To validate the training loop logic."
   ]
  },
  {
   "cell_type": "code",
   "execution_count": 13,
   "metadata": {},
   "outputs": [],
   "source": [
    "# Device ('cuda' or 'cpu')\n",
    "device = torch.device('cuda' if torch.cuda.is_available() else 'cpu')\n",
    "\n",
    "# Hyperparameters\n",
    "learning_rate = 1e-4\n",
    "epochs = 10\n",
    "batch_size = 10\n",
    "\n",
    "# Model\n",
    "model = NeuralNetwork(num_classes=10).to(device)\n",
    "\n",
    "# Loss\n",
    "loss = nn.CrossEntropyLoss()\n",
    "\n",
    "# Optimizers\n",
    "optimizer = Adam(model.parameters(), learning_rate)\n",
    "#optimizer = SGD(model.parameters(), learning_rate, momentum=0.9)"
   ]
  },
  {
   "cell_type": "code",
   "execution_count": 14,
   "metadata": {},
   "outputs": [
    {
     "name": "stdout",
     "output_type": "stream",
     "text": [
      "Epoch:  1 | Train Loss: 2.2798 | Train Acc: 10.00% | Val Loss: 2.3235 | Val Acc: 10.00%\n",
      "Epoch:  2 | Train Loss: 2.0832 | Train Acc: 20.00% | Val Loss: 2.3779 | Val Acc: 10.00%\n",
      "Epoch:  3 | Train Loss: 1.9706 | Train Acc: 18.00% | Val Loss: 2.4416 | Val Acc: 10.00%\n",
      "Epoch:  4 | Train Loss: 1.8531 | Train Acc: 58.00% | Val Loss: 2.4905 | Val Acc: 12.00%\n",
      "Epoch:  5 | Train Loss: 1.7195 | Train Acc: 76.00% | Val Loss: 2.5119 | Val Acc: 14.00%\n",
      "Epoch:  6 | Train Loss: 1.5680 | Train Acc: 78.00% | Val Loss: 2.5178 | Val Acc: 14.00%\n",
      "Epoch:  7 | Train Loss: 1.4117 | Train Acc: 86.00% | Val Loss: 2.5264 | Val Acc: 14.00%\n",
      "Epoch:  8 | Train Loss: 1.2425 | Train Acc: 94.00% | Val Loss: 2.5395 | Val Acc: 14.00%\n",
      "Epoch:  9 | Train Loss: 1.0752 | Train Acc: 94.00% | Val Loss: 2.5588 | Val Acc: 16.00%\n",
      "Epoch: 10 | Train Loss: 0.9231 | Train Acc: 98.00% | Val Loss: 2.6017 | Val Acc: 14.00%\n"
     ]
    }
   ],
   "source": [
    "for epoch in range(epochs):\n",
    "    epoch_train_loss = 0.0\n",
    "    epoch_val_loss = 0.0\n",
    "    total_train_correct = 0\n",
    "    total_train_samples = 0\n",
    "    total_val_correct = 0\n",
    "    total_val_samples = 0\n",
    "\n",
    "    # Training phase:\n",
    "    model.train()  # Set the model to training mode.\n",
    "    for i in range(0, len(x_train), batch_size):\n",
    "        # Iterating over the dataset in batches of n samples:\n",
    "        x_train_batch, y_train_batch = x_train[i:i+batch_size], y_train[i:i+batch_size]\n",
    "        x_train_batch, y_train_batch = x_train_batch.to(device), y_train_batch.to(device)\n",
    "\n",
    "        # Forward pass (prediction):\n",
    "        yhat_train = model(x_train_batch)\n",
    "\n",
    "        # Compute training loss:\n",
    "        train_loss = loss(yhat_train, y_train_batch)\n",
    "        epoch_train_loss += torch.abs(train_loss).item()\n",
    "\n",
    "        # Reset gradients:\n",
    "        optimizer.zero_grad()\n",
    "        # Backpropagate:\n",
    "        train_loss.backward()\n",
    "        # Update weights:\n",
    "        optimizer.step()\n",
    "\n",
    "        # Compute training accuracy:\n",
    "        preds = torch.argmax(yhat_train, dim=1)\n",
    "        total_train_correct += (preds == y_train_batch).sum().item()\n",
    "        total_train_samples += y_train_batch.size(0)\n",
    "    \n",
    "    # Validation phase:\n",
    "    model.eval() # Set the model to evaluation mode.\n",
    "    with torch.no_grad():\n",
    "        for i in range(0, len(x_val), batch_size):\n",
    "            x_val_batch, y_val_batch = x_val[i:i+batch_size], y_val[i:i+batch_size]\n",
    "            x_val_batch, y_val_batch = x_val_batch.to(device), y_val_batch.to(device)\n",
    "\n",
    "            # Forward pass (prediction):\n",
    "            yhat_val = model(x_val_batch)\n",
    "\n",
    "            # Compute validation loss:\n",
    "            epoch_val_loss += torch.abs(loss(yhat_val, y_val_batch)).item()\n",
    "\n",
    "            # Compute validation accuracy:\n",
    "            preds = torch.argmax(yhat_val, dim=1)\n",
    "            total_val_correct += (preds == y_val_batch).sum().item()\n",
    "            total_val_samples += y_val_batch.size(0)\n",
    "\n",
    "    # Number of forward passes:\n",
    "    num_train_passes = total_train_samples // batch_size\n",
    "    num_val_passes = total_val_samples // batch_size\n",
    "    # Average Training Loss:\n",
    "    epoch_train_loss /= num_train_passes\n",
    "    # Average Validation Loss:\n",
    "    epoch_val_loss /= num_val_passes\n",
    "    # Average Training Accuracy:\n",
    "    epoch_train_accuracy = total_train_correct / total_train_samples\n",
    "    # Average Validation Accuracy:\n",
    "    epoch_val_accuracy = total_val_correct / total_val_samples\n",
    "\n",
    "    print(f\"Epoch: {epoch+1:2d} | \"\n",
    "          f\"Train Loss: {epoch_train_loss:.4f} | Train Acc: {epoch_train_accuracy*100:.2f}% | \"\n",
    "          f\"Val Loss: {epoch_val_loss:.4f} | Val Acc: {epoch_val_accuracy*100:.2f}%\")"
   ]
  },
  {
   "cell_type": "markdown",
   "metadata": {
    "jp-MarkdownHeadingCollapsed": true
   },
   "source": [
    "# Training with MNIST Dataset"
   ]
  },
  {
   "cell_type": "markdown",
   "metadata": {
    "jp-MarkdownHeadingCollapsed": true
   },
   "source": [
    "## Data Preprocessing"
   ]
  },
  {
   "cell_type": "code",
   "execution_count": 15,
   "metadata": {},
   "outputs": [],
   "source": [
    "# Load the MNIST dataset:\n",
    "mnist = datasets.MNIST(root='data', download=True, train=True, transform=ToTensor())\n",
    "\n",
    "# Define dataset split ratios:\n",
    "total_size = len(mnist)\n",
    "train_size = int(0.8 * total_size)  # 80% for training.\n",
    "val_size = total_size - train_size  # 20% for validation.\n",
    "\n",
    "# Splitting the dataset into training and validation sets:\n",
    "train_dataset, val_dataset = torch.utils.data.random_split(mnist, [train_size, val_size])\n",
    "\n",
    "# Create data loaders for training and validation sets:\n",
    "batch_size = 32\n",
    "train_loader = DataLoader(dataset = train_dataset, batch_size = batch_size, shuffle = True)\n",
    "val_loader = DataLoader(dataset = val_dataset, batch_size = batch_size, shuffle = False)"
   ]
  },
  {
   "cell_type": "markdown",
   "metadata": {
    "jp-MarkdownHeadingCollapsed": true
   },
   "source": [
    "## Training"
   ]
  },
  {
   "cell_type": "code",
   "execution_count": 17,
   "metadata": {},
   "outputs": [],
   "source": [
    "# Hyperparameters:\n",
    "learning_rate = 1e-4\n",
    "momentum = 0.9\n",
    "epochs = 50\n",
    "batch_size = batch_size\n",
    "\n",
    "# Model:\n",
    "model = NeuralNetwork(num_classes=10).to(device)\n",
    "\n",
    "# Loss:\n",
    "loss = nn.CrossEntropyLoss()\n",
    "\n",
    "# Optimizers:\n",
    "optimizer = SGD(model.parameters(), learning_rate, momentum = momentum)\n",
    "#optimizer = Adam(model.parameters(), learning_rate)"
   ]
  },
  {
   "cell_type": "code",
   "execution_count": 18,
   "metadata": {
    "scrolled": true
   },
   "outputs": [
    {
     "name": "stdout",
     "output_type": "stream",
     "text": [
      "Epoch:  1 | Train Loss: 1.3984 | Train Acc: 88.33% | Val Loss: 0.7032 | Val Acc: 93.34%\n",
      "Epoch:  2 | Train Loss: 0.5591 | Train Acc: 94.97% | Val Loss: 0.4552 | Val Acc: 95.79%\n",
      "Epoch:  3 | Train Loss: 0.3681 | Train Acc: 96.74% | Val Loss: 0.3317 | Val Acc: 96.72%\n",
      "Epoch:  4 | Train Loss: 0.2852 | Train Acc: 97.49% | Val Loss: 0.2862 | Val Acc: 97.37%\n",
      "Epoch:  5 | Train Loss: 0.2371 | Train Acc: 97.87% | Val Loss: 0.2413 | Val Acc: 97.84%\n",
      "Epoch:  6 | Train Loss: 0.2041 | Train Acc: 98.18% | Val Loss: 0.2325 | Val Acc: 97.87%\n",
      "Epoch:  7 | Train Loss: 0.1798 | Train Acc: 98.41% | Val Loss: 0.2005 | Val Acc: 98.17%\n",
      "Epoch:  8 | Train Loss: 0.1629 | Train Acc: 98.58% | Val Loss: 0.1825 | Val Acc: 98.23%\n",
      "Epoch:  9 | Train Loss: 0.1464 | Train Acc: 98.72% | Val Loss: 0.1625 | Val Acc: 98.46%\n",
      "Epoch: 10 | Train Loss: 0.1324 | Train Acc: 98.84% | Val Loss: 0.1659 | Val Acc: 98.38%\n",
      "Epoch: 11 | Train Loss: 0.1234 | Train Acc: 98.92% | Val Loss: 0.1556 | Val Acc: 98.43%\n",
      "Epoch: 12 | Train Loss: 0.1138 | Train Acc: 98.99% | Val Loss: 0.1534 | Val Acc: 98.61%\n",
      "Epoch: 13 | Train Loss: 0.1055 | Train Acc: 99.07% | Val Loss: 0.1500 | Val Acc: 98.56%\n",
      "Epoch: 14 | Train Loss: 0.0983 | Train Acc: 99.15% | Val Loss: 0.1464 | Val Acc: 98.67%\n",
      "Epoch: 15 | Train Loss: 0.0924 | Train Acc: 99.20% | Val Loss: 0.1374 | Val Acc: 98.59%\n",
      "Epoch: 16 | Train Loss: 0.0868 | Train Acc: 99.24% | Val Loss: 0.1316 | Val Acc: 98.71%\n",
      "Epoch: 17 | Train Loss: 0.0796 | Train Acc: 99.29% | Val Loss: 0.1356 | Val Acc: 98.67%\n",
      "Epoch: 18 | Train Loss: 0.0741 | Train Acc: 99.35% | Val Loss: 0.1330 | Val Acc: 98.64%\n",
      "Epoch: 19 | Train Loss: 0.0695 | Train Acc: 99.39% | Val Loss: 0.1320 | Val Acc: 98.67%\n",
      "Epoch: 20 | Train Loss: 0.0653 | Train Acc: 99.42% | Val Loss: 0.1240 | Val Acc: 98.72%\n",
      "Epoch: 21 | Train Loss: 0.0607 | Train Acc: 99.50% | Val Loss: 0.1281 | Val Acc: 98.76%\n",
      "Epoch: 22 | Train Loss: 0.0580 | Train Acc: 99.52% | Val Loss: 0.1334 | Val Acc: 98.74%\n",
      "Epoch: 23 | Train Loss: 0.0535 | Train Acc: 99.58% | Val Loss: 0.1248 | Val Acc: 98.78%\n",
      "Epoch: 24 | Train Loss: 0.0500 | Train Acc: 99.60% | Val Loss: 0.1340 | Val Acc: 98.69%\n",
      "Epoch: 25 | Train Loss: 0.0466 | Train Acc: 99.62% | Val Loss: 0.1239 | Val Acc: 98.73%\n",
      "Epoch: 26 | Train Loss: 0.0449 | Train Acc: 99.65% | Val Loss: 0.1203 | Val Acc: 98.84%\n",
      "Epoch: 27 | Train Loss: 0.0420 | Train Acc: 99.69% | Val Loss: 0.1195 | Val Acc: 98.86%\n",
      "Epoch: 28 | Train Loss: 0.0395 | Train Acc: 99.70% | Val Loss: 0.1247 | Val Acc: 98.79%\n",
      "Epoch: 29 | Train Loss: 0.0366 | Train Acc: 99.76% | Val Loss: 0.1218 | Val Acc: 98.77%\n",
      "Epoch: 30 | Train Loss: 0.0353 | Train Acc: 99.72% | Val Loss: 0.1196 | Val Acc: 98.83%\n",
      "Epoch: 31 | Train Loss: 0.0328 | Train Acc: 99.76% | Val Loss: 0.1217 | Val Acc: 98.80%\n",
      "Epoch: 32 | Train Loss: 0.0305 | Train Acc: 99.81% | Val Loss: 0.1267 | Val Acc: 98.83%\n",
      "Epoch: 33 | Train Loss: 0.0283 | Train Acc: 99.82% | Val Loss: 0.1291 | Val Acc: 98.78%\n",
      "Epoch: 34 | Train Loss: 0.0268 | Train Acc: 99.84% | Val Loss: 0.1244 | Val Acc: 98.82%\n",
      "Epoch: 35 | Train Loss: 0.0255 | Train Acc: 99.85% | Val Loss: 0.1233 | Val Acc: 98.80%\n",
      "Epoch: 36 | Train Loss: 0.0254 | Train Acc: 99.85% | Val Loss: 0.1200 | Val Acc: 98.88%\n",
      "Epoch: 37 | Train Loss: 0.0231 | Train Acc: 99.86% | Val Loss: 0.1229 | Val Acc: 98.81%\n",
      "Epoch: 38 | Train Loss: 0.0214 | Train Acc: 99.90% | Val Loss: 0.1241 | Val Acc: 98.82%\n",
      "Epoch: 39 | Train Loss: 0.0205 | Train Acc: 99.91% | Val Loss: 0.1281 | Val Acc: 98.74%\n",
      "Epoch: 40 | Train Loss: 0.0185 | Train Acc: 99.92% | Val Loss: 0.1239 | Val Acc: 98.84%\n",
      "Epoch: 41 | Train Loss: 0.0178 | Train Acc: 99.91% | Val Loss: 0.1364 | Val Acc: 98.70%\n",
      "Epoch: 42 | Train Loss: 0.0168 | Train Acc: 99.92% | Val Loss: 0.1232 | Val Acc: 98.92%\n",
      "Epoch: 43 | Train Loss: 0.0161 | Train Acc: 99.93% | Val Loss: 0.1258 | Val Acc: 98.89%\n",
      "Epoch: 44 | Train Loss: 0.0153 | Train Acc: 99.93% | Val Loss: 0.1283 | Val Acc: 98.80%\n",
      "Epoch: 45 | Train Loss: 0.0140 | Train Acc: 99.95% | Val Loss: 0.1237 | Val Acc: 98.83%\n",
      "Epoch: 46 | Train Loss: 0.0135 | Train Acc: 99.96% | Val Loss: 0.1262 | Val Acc: 98.89%\n",
      "Epoch: 47 | Train Loss: 0.0129 | Train Acc: 99.95% | Val Loss: 0.1250 | Val Acc: 98.88%\n",
      "Epoch: 48 | Train Loss: 0.0124 | Train Acc: 99.96% | Val Loss: 0.1288 | Val Acc: 98.88%\n",
      "Epoch: 49 | Train Loss: 0.0116 | Train Acc: 99.96% | Val Loss: 0.1272 | Val Acc: 98.90%\n",
      "Epoch: 50 | Train Loss: 0.0109 | Train Acc: 99.97% | Val Loss: 0.1271 | Val Acc: 98.83%\n"
     ]
    }
   ],
   "source": [
    "history = {'loss': [], 'val_loss': [], 'accuracy': [], 'val_accuracy': []}\n",
    "\n",
    "for epoch in range(epochs):\n",
    "    epoch_train_loss = 0.0\n",
    "    epoch_val_loss = 0.0\n",
    "    total_train_correct = 0\n",
    "    total_train_samples = 0\n",
    "    total_val_correct = 0\n",
    "    total_val_samples = 0\n",
    "    \n",
    "    # Training phase:\n",
    "    model.train()  # Set the model to training mode.\n",
    "    for batch in train_loader:\n",
    "        x, y = batch\n",
    "        x, y = x.to(device), y.to(device)\n",
    "\n",
    "        # Forward pass (prediction):\n",
    "        yhat_train = model(x)\n",
    "\n",
    "        # Compute loss:\n",
    "        train_loss = loss(yhat_train, y)\n",
    "        epoch_train_loss += torch.abs(train_loss).item()\n",
    "\n",
    "        # Reset gradients:\n",
    "        optimizer.zero_grad()\n",
    "        # Backpropagate:\n",
    "        train_loss.backward()\n",
    "        # Update weights:\n",
    "        optimizer.step()\n",
    "\n",
    "        # Compute accuracy:\n",
    "        _, predicted = torch.max(yhat_train, 1)\n",
    "        total_train_correct += (predicted == y).sum().item()\n",
    "        total_train_samples += y.size(0)\n",
    "\n",
    "    # Validation phase:\n",
    "    model.eval() # Set the model to evaluation mode.\n",
    "    with torch.no_grad():\n",
    "        for batch in val_loader:\n",
    "            x_val_batch, y_val_batch = batch\n",
    "            x_val_batch, y_val_batch = x_val_batch.to(device), y_val_batch.to(device)\n",
    "\n",
    "            # Forward pass (prediction):\n",
    "            yhat_val = model(x_val_batch)\n",
    "\n",
    "            # Compute loss:\n",
    "            epoch_val_loss += torch.abs(loss(yhat_val, y_val_batch)).item()\n",
    "            \n",
    "            # Compute accuracy:\n",
    "            _, predicted = torch.max(yhat_val, 1)\n",
    "            total_val_correct += (predicted == y_val_batch).sum().item()\n",
    "            total_val_samples += y_val_batch.size(0)\n",
    "\n",
    "    # Average Training Loss:\n",
    "    epoch_train_loss /= (total_train_samples/batch_size)\n",
    "    # Average Training Accuracy:\n",
    "    epoch_train_accuracy = total_train_correct / total_train_samples\n",
    "    # Average Val Loss:\n",
    "    epoch_val_loss /= (total_val_samples/batch_size)\n",
    "    # Average Val Accuracy:\n",
    "    epoch_val_accuracy = total_val_correct / total_val_samples\n",
    "    # History:\n",
    "    history['loss'].append(epoch_train_loss)\n",
    "    history['accuracy'].append(epoch_train_accuracy)\n",
    "    history['val_loss'].append(epoch_val_loss)\n",
    "    history['val_accuracy'].append(epoch_val_accuracy)\n",
    "    \n",
    "    print(f\"Epoch: {epoch+1:2d} | \"\n",
    "          f\"Train Loss: {epoch_train_loss:.4f} | Train Acc: {epoch_train_accuracy*100:.2f}% | \"\n",
    "          f\"Val Loss: {epoch_val_loss:.4f} | Val Acc: {epoch_val_accuracy*100:.2f}%\")\n",
    "\n",
    "if not os.path.exists('./models/torch'):\n",
    "    os.makedirs('./models/torch')\n",
    "    \n",
    "with open('./models/torch/mnist_cnn_model.pt', 'wb') as f:\n",
    "    save(model.state_dict(), f)"
   ]
  },
  {
   "cell_type": "code",
   "execution_count": 19,
   "metadata": {},
   "outputs": [
    {
     "data": {
      "image/png": "[encoded data removed]",
      "text/plain": [
       "<Figure size 1200x600 with 2 Axes>"
      ]
     },
     "metadata": {},
     "output_type": "display_data"
    }
   ],
   "source": [
    "def plot_history(history):\n",
    "    fig, (ax1, ax2) = plt.subplots(1, 2, figsize=(12, 6))\n",
    "\n",
    "    # Plot the training and validation loss\n",
    "    ax1.plot(history['loss'], label='Training loss')\n",
    "    ax1.plot(history['val_loss'], label='Validation loss')\n",
    "    ax1.set_title('Training and validation loss')\n",
    "    ax1.set_xlabel('Epoch')\n",
    "    ax1.set_ylabel('Loss')\n",
    "    ax1.legend()\n",
    "\n",
    "    # Plot the training and validation accuracy\n",
    "    ax2.plot(history['accuracy'], label='Training accuracy')\n",
    "    ax2.plot(history['val_accuracy'], label='Validation accuracy')\n",
    "    ax2.set_title('Training and validation accuracy')\n",
    "    ax2.set_xlabel('Epoch')\n",
    "    ax2.set_ylabel('Accuracy')\n",
    "    ax2.legend()\n",
    "    plt.show()\n",
    "\n",
    "plot_history(history)"
   ]
  },
  {
   "cell_type": "markdown",
   "metadata": {
    "jp-MarkdownHeadingCollapsed": true
   },
   "source": [
    "## Predictions"
   ]
  },
  {
   "cell_type": "code",
   "execution_count": 20,
   "metadata": {},
   "outputs": [
    {
     "data": {
      "image/png": "[encoded data removed]",
      "text/plain": [
       "<Figure size 640x480 with 1 Axes>"
      ]
     },
     "metadata": {},
     "output_type": "display_data"
    },
    {
     "name": "stdout",
     "output_type": "stream",
     "text": [
      "tensor(0, device='cuda:0')\n"
     ]
    }
   ],
   "source": [
    "# Open and convert the image to grayscale\n",
    "img = Image.open('assets/test.png').convert('L')\n",
    "\n",
    "# Display the image\n",
    "plt.imshow(img, cmap='gray')\n",
    "plt.axis('off')\n",
    "plt.show()\n",
    "\n",
    "# Convert image to Tensor\n",
    "img = ToTensor()(img).unsqueeze(0)\n",
    "\n",
    "# Resize the image to match the neural network input\n",
    "img = F.interpolate(img, size=(28, 28), mode='bilinear', align_corners=False).to(device)\n",
    "\n",
    "# Load the pre-trained model\n",
    "with open('models/torch/mnist_cnn_model.pt', 'rb') as f:\n",
    "    model.load_state_dict(load(f))\n",
    "\n",
    "# make a prediction\n",
    "print(torch.argmax(model(img)))"
   ]
  },
  {
   "cell_type": "code",
   "execution_count": null,
   "metadata": {},
   "outputs": [],
   "source": []
  }
 ],
 "metadata": {
  "colab": {
   "authorship_tag": "ABX9TyOR6YkOUhchEpzaNAj1pEyD",
   "collapsed_sections": [
    "5LTGVwEqIoXb",
    "kvy46RwUYdCW",
    "WLm2BNtC-7D2",
    "d4_Uk_hR-8jz",
    "j3Lxn2UvCrgc",
    "hgXSpKQBYaKC"
   ],
   "provenance": []
  },
  "kernelspec": {
   "display_name": "Python 3 (ipykernel)",
   "language": "python",
   "name": "python3"
  },
  "language_info": {
   "codemirror_mode": {
    "name": "ipython",
    "version": 3
   },
   "file_extension": ".py",
   "mimetype": "text/x-python",
   "name": "python",
   "nbconvert_exporter": "python",
   "pygments_lexer": "ipython3",
   "version": "3.12.0"
  }
 },
 "nbformat": 4,
 "nbformat_minor": 4
}
